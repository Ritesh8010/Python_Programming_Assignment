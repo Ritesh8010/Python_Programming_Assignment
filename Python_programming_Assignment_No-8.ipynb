{
 "cells": [
  {
   "cell_type": "code",
   "execution_count": 1,
   "id": "ef87d01e",
   "metadata": {},
   "outputs": [
    {
     "name": "stdout",
     "output_type": "stream",
     "text": [
      "[17, 15, 4]\n",
      "[10, 12, 9]\n",
      "[11, 13, 18]\n"
     ]
    }
   ],
   "source": [
    "# 1.\tWrite a Python Program to Add Two Matrices?\n",
    "\n",
    "# Ans-\n",
    "X = [[12,7,3],\n",
    "    [4 ,5,6],\n",
    "    [7 ,8,9]]\n",
    "Y= [[5,8,1],\n",
    "    [6,7,3],\n",
    "    [4,5,9]]\n",
    "\n",
    "result = [[0,0,0],\n",
    "         [0,0,0],\n",
    "         [0,0,0]]\n",
    "for i in range(len(X)):\n",
    "    for j in range(len(Y[0])):\n",
    "        result[i][j]=X[i][j]+Y[i][j]\n",
    "for k in result:\n",
    "    print(k)\n"
   ]
  },
  {
   "cell_type": "code",
   "execution_count": 3,
   "id": "533dde78",
   "metadata": {},
   "outputs": [
    {
     "name": "stdout",
     "output_type": "stream",
     "text": [
      "[44, 34, 14]\n",
      "[23, 17, 9]\n",
      "[11, 8, 5]\n"
     ]
    }
   ],
   "source": [
    "# 2.\tWrite a Python Program to Multiply Two Matrices?\n",
    "\n",
    "#Ans\n",
    "X = [[1,4,5],\n",
    "    [2 ,3,1],\n",
    "    [1 ,2,0]]\n",
    "Y= [[3,2,1],\n",
    "    [4,3,2],\n",
    "    [5,4,1]]\n",
    "\n",
    "result = [[0,0,0],\n",
    "         [0,0,0],\n",
    "         [0,0,0]]\n",
    "for i in range(len(X)):# iterate through rows of X\n",
    "    for j in range(len(Y[0])):# iterate through columns of Y\n",
    "        for k in range(len(Y)):# iterate through rows of Y\n",
    "            result[i][j] += X[i][k] * Y[k][j]\n",
    "for r in result:\n",
    "    print(r)"
   ]
  },
  {
   "cell_type": "code",
   "execution_count": 5,
   "id": "64e86c6b",
   "metadata": {},
   "outputs": [
    {
     "name": "stdout",
     "output_type": "stream",
     "text": [
      "[1, 2, 1]\n",
      "[4, 3, 2]\n",
      "[5, 1, 0]\n"
     ]
    }
   ],
   "source": [
    "# 3.\tWrite a Python Program to Transpose a Matrix?\n",
    "\n",
    "# Ans-\n",
    "X = [[1,4,5],\n",
    "    [2 ,3,1],\n",
    "    [1 ,2,0]]\n",
    "result = [[0,0,0],\n",
    "         [0,0,0],\n",
    "         [0,0,0]]\n",
    "for i in range(len(X)):# iterate through rows of X\n",
    "        for j in range(len(X[0])):# iterate through columns of X\n",
    "            result[j][i]=X[i][j]\n",
    "for r in result:\n",
    "    print(r)"
   ]
  },
  {
   "cell_type": "code",
   "execution_count": 8,
   "id": "d8d6461e",
   "metadata": {},
   "outputs": [
    {
     "name": "stdout",
     "output_type": "stream",
     "text": [
      "Enter a stringRam eats mango\n",
      "the sorted words are displyaed below are:\n",
      "eats\n",
      "mango\n",
      "ram\n"
     ]
    }
   ],
   "source": [
    "# 4.\tWrite a Python Program to Sort Words in Alphabetic Order?\n",
    "\n",
    "#Ans-\n",
    "my_str=input(\"Enter a string\")\n",
    "\n",
    "words=[word.lower() for word in my_str.split()] # breakdown the string into a list of words\n",
    "words.sort() # sorting the words\n",
    "print(\"the sorted words are displyaed below are:\")\n",
    "for word in words:\n",
    "    print(word)"
   ]
  },
  {
   "cell_type": "code",
   "execution_count": 2,
   "id": "dd032ea5",
   "metadata": {},
   "outputs": [
    {
     "name": "stdout",
     "output_type": "stream",
     "text": [
      "Enter a stringExcellent!  job well @#done\n",
      "Excellent  job well done\n"
     ]
    }
   ],
   "source": [
    "# 5.\tWrite a Python Program to Remove Punctuation From a String?\n",
    "\n",
    "# Ans-\n",
    "# define punctuation\n",
    "punctuations = '''!()-[]{};:'\"\\,<>./?@#$%^&*_~'''\n",
    "my_str=input(\"Enter a string\")\n",
    "no_punctuation=\"\"\n",
    "for char in my_str:\n",
    "    if char not in punctuations:\n",
    "        no_punctuation=no_punctuation+char\n",
    "print(no_punctuation)        "
   ]
  }
 ],
 "metadata": {
  "kernelspec": {
   "display_name": "Python 3 (ipykernel)",
   "language": "python",
   "name": "python3"
  },
  "language_info": {
   "codemirror_mode": {
    "name": "ipython",
    "version": 3
   },
   "file_extension": ".py",
   "mimetype": "text/x-python",
   "name": "python",
   "nbconvert_exporter": "python",
   "pygments_lexer": "ipython3",
   "version": "3.9.12"
  }
 },
 "nbformat": 4,
 "nbformat_minor": 5
}
