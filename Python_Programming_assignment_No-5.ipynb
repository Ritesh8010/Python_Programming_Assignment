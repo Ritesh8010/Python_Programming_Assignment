{
 "cells": [
  {
   "cell_type": "code",
   "execution_count": 3,
   "id": "9d543aa3",
   "metadata": {},
   "outputs": [
    {
     "name": "stdout",
     "output_type": "stream",
     "text": [
      "Enter the first number: 100\n",
      "Enter the second number: 125\n",
      "The LCM of two numbers 100 and 125 is 500\n"
     ]
    }
   ],
   "source": [
    "#1.\tWrite a Python Program to Find LCM?\n",
    "\n",
    "# Ans-\n",
    "# LCM(Least Common Multiple) of two numbers\n",
    "n1=int(input(\"Enter the first number: \"))\n",
    "n2=int(input(\"Enter the second number: \"))\n",
    "\n",
    "# Choosing the greater number\n",
    "if n1>n2:\n",
    "    greater=n1\n",
    "else:\n",
    "    greater=n2\n",
    "\n",
    "while(True):\n",
    "    if((greater%n1==0) and (greater%n2==0)):\n",
    "        lcm=greater\n",
    "        break\n",
    "    greater+=1\n",
    "    \n",
    "print(f\"The LCM of two numbers {n1} and {n2} is {lcm}\")"
   ]
  },
  {
   "cell_type": "code",
   "execution_count": 5,
   "id": "b7a9fe03",
   "metadata": {},
   "outputs": [
    {
     "name": "stdout",
     "output_type": "stream",
     "text": [
      "Enter the first number: 10\n",
      "Enter the second number: 15\n",
      "The HCF of two numbers 10 and 15 is 5\n"
     ]
    }
   ],
   "source": [
    "#2.\tWrite a Python Program to Find HCF?\n",
    "\n",
    "# Ans-\n",
    "# HCF(Highest Common Factor)of two numbers\n",
    "n1=int(input(\"Enter the first number: \"))\n",
    "n2=int(input(\"Enter the second number: \"))\n",
    "\n",
    "# Choosing the smaller number\n",
    "if n1>n2:\n",
    "    smaller=n2\n",
    "else:\n",
    "    smaller=n1\n",
    "    \n",
    "for i in range(1,smaller+1):\n",
    "    if((n1%i==0) and (n2%i==0)):\n",
    "        hcf=i\n",
    "print(f\"The HCF of two numbers {n1} and {n2} is {hcf}\")\n",
    "\n"
   ]
  },
  {
   "cell_type": "code",
   "execution_count": 6,
   "id": "3f1f4282",
   "metadata": {},
   "outputs": [
    {
     "name": "stdout",
     "output_type": "stream",
     "text": [
      "Enter the Decimal Value for conversion: 50\n",
      "The decimal value is 50\n",
      "Binary will be 0b110010\n",
      "Octal  will be 0o62\n",
      "hexadecimal will be 0x32\n"
     ]
    }
   ],
   "source": [
    "#3.\tWrite a Python Program to Convert Decimal to Binary, Octal and Hexadecimal?\n",
    "\n",
    "# Ans-\n",
    "\n",
    "dec=int(input(\"Enter the Decimal Value for conversion: \"))\n",
    "print(f\"The decimal value is {dec}\")\n",
    "print(f\"Binary will be {bin(dec)}\")\n",
    "print(f\"Octal  will be {oct(dec)}\")\n",
    "print(f\"hexadecimal will be {hex(dec)}\")"
   ]
  },
  {
   "cell_type": "code",
   "execution_count": 13,
   "id": "e2f83e24",
   "metadata": {},
   "outputs": [
    {
     "name": "stdout",
     "output_type": "stream",
     "text": [
      "Enter the character for which ASCII to be shownA\n",
      "The ASCII value of A is 65\n"
     ]
    }
   ],
   "source": [
    "#4.\tWrite a Python Program To Find ASCII value of a character?\n",
    "\n",
    "# Ans-\n",
    "\n",
    "c=input(\"Enter the character for which ASCII to be shown\")\n",
    "\n",
    "print(f\"The ASCII value of {c} is {ord(c)}\")"
   ]
  },
  {
   "cell_type": "code",
   "execution_count": 15,
   "id": "221533c3",
   "metadata": {},
   "outputs": [
    {
     "name": "stdout",
     "output_type": "stream",
     "text": [
      "Calculator Operations\n",
      "Enter the value1: 12\n",
      "Enter the value2: 6\n",
      "ADD\n",
      "18\n",
      "Subtract\n",
      "6\n",
      "Multiply\n",
      "72\n",
      "Divide\n",
      "2.0\n"
     ]
    }
   ],
   "source": [
    "#5.\tWrite a Python Program to Make a Simple Calculator with 4 basic mathematical operations?\n",
    "\n",
    "# Ans-\n",
    "print(\"Calculator Operations\")\n",
    "num1=int(input(\"Enter the value1: \"))\n",
    "num2=int(input(\"Enter the value2: \"))\n",
    "print(\"ADD\")\n",
    "a=num1+num2\n",
    "print(a)\n",
    "print(\"Subtract\")\n",
    "b=num1-num2\n",
    "print(b)\n",
    "print(\"Multiply\")\n",
    "c=num1*num2\n",
    "print(c)\n",
    "print(\"Divide\")\n",
    "d=num1/num2\n",
    "print(d)\n",
    "\n"
   ]
  },
  {
   "cell_type": "code",
   "execution_count": null,
   "id": "5f257619",
   "metadata": {},
   "outputs": [],
   "source": []
  }
 ],
 "metadata": {
  "kernelspec": {
   "display_name": "Python 3 (ipykernel)",
   "language": "python",
   "name": "python3"
  },
  "language_info": {
   "codemirror_mode": {
    "name": "ipython",
    "version": 3
   },
   "file_extension": ".py",
   "mimetype": "text/x-python",
   "name": "python",
   "nbconvert_exporter": "python",
   "pygments_lexer": "ipython3",
   "version": "3.9.12"
  }
 },
 "nbformat": 4,
 "nbformat_minor": 5
}
