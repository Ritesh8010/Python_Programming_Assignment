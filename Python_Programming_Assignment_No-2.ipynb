{
 "cells": [
  {
   "cell_type": "code",
   "execution_count": 1,
   "id": "af91a5eb",
   "metadata": {},
   "outputs": [
    {
     "name": "stdout",
     "output_type": "stream",
     "text": [
      "Object `miles` not found.\n",
      "Enter the distance in Km : 6.09\n",
      "Entered distance in Km:6.09 gets converted to miles :3.78414939\n"
     ]
    }
   ],
   "source": [
    "1.\tWrite a Python program to convert kilometers to miles?\n",
    "\n",
    "# Ans-\n",
    "\n",
    "km=float(input(\"Enter the distance in Km : \"))\n",
    "conversion_fact=0.621371\n",
    "miles=km*conversion_fact\n",
    "print(f\"Entered distance in Km:{km} gets converted to miles :{miles}\")\n"
   ]
  },
  {
   "cell_type": "code",
   "execution_count": 3,
   "id": "c3fa8e54",
   "metadata": {},
   "outputs": [
    {
     "name": "stdout",
     "output_type": "stream",
     "text": [
      "Enter the Temperature in degree Celsius : 37\n",
      "Temperature in degree Celsius is :37.0,\n",
      "Temperture in degree Fahreinheit is :98.6\n"
     ]
    }
   ],
   "source": [
    "# 2.\tWrite a Python program to convert Celsius to Fahrenheit?\n",
    "\n",
    "# Ans-\n",
    "\n",
    "c=float(input(\"Enter the Temperature in degree Celsius : \"))\n",
    "F=(9*c+160)/5\n",
    "print(f\"\"\"Temperature in degree Celsius is :{c},\n",
    "Temperture in degree Fahreinheit is :{F}\"\"\")"
   ]
  },
  {
   "cell_type": "code",
   "execution_count": 4,
   "id": "73af70da",
   "metadata": {},
   "outputs": [
    {
     "name": "stdout",
     "output_type": "stream",
     "text": [
      "Enter the Year you want to be displayed: 2022\n",
      "Enter the Month of the 2022 you want to be displayed:10\n",
      "    October 2022\n",
      "Mo Tu We Th Fr Sa Su\n",
      "                1  2\n",
      " 3  4  5  6  7  8  9\n",
      "10 11 12 13 14 15 16\n",
      "17 18 19 20 21 22 23\n",
      "24 25 26 27 28 29 30\n",
      "31\n",
      "\n"
     ]
    }
   ],
   "source": [
    "#3.\tWrite a Python program to display calendar?\n",
    "\n",
    "#Ans-\n",
    "\n",
    "import calendar\n",
    "\n",
    "yy=int(input(\"Enter the Year you want to be displayed: \"))\n",
    "mm=int(input(f\"Enter the Month of the {yy} you want to be displayed:\"))\n",
    "print(calendar.month(yy,mm))\n",
    "\n",
    "\n"
   ]
  },
  {
   "cell_type": "code",
   "execution_count": 6,
   "id": "513daeff",
   "metadata": {},
   "outputs": [
    {
     "name": "stdout",
     "output_type": "stream",
     "text": [
      "Enter the Year you want to be displayed: 2022\n",
      "Enter the Month of the 2022 you want to be displayed:9\n",
      "   September 2022\n",
      "Mo Tu We Th Fr Sa Su\n",
      "          1  2  3  4\n",
      " 5  6  7  8  9 10 11\n",
      "12 13 14 15 16 17 18\n",
      "19 20 21 22 23 24 25\n",
      "26 27 28 29 30\n",
      "\n"
     ]
    }
   ],
   "source": [
    "\n",
    "import calendar\n",
    "\n",
    "yy=int(input(\"Enter the Year you want to be displayed: \"))\n",
    "mm=int(input(f\"Enter the Month of the {yy} you want to be displayed:\"))\n",
    "print(calendar.month(yy,mm))"
   ]
  },
  {
   "cell_type": "code",
   "execution_count": 19,
   "id": "64698b2c",
   "metadata": {},
   "outputs": [
    {
     "name": "stdout",
     "output_type": "stream",
     "text": [
      "a: 1\n",
      "b: -6\n",
      "c: 9\n",
      "First root of the equation is (3+0j)\n",
      "Second  root of the equation is (3+0j)\n"
     ]
    }
   ],
   "source": [
    "# 4.Write a Python program to solve quadratic equation?\n",
    "# ax2 + bx + c = 0\n",
    "\n",
    "#Ans-\n",
    "\n",
    "import cmath\n",
    "a=int(input(\"a: \"))\n",
    "b=int(input(\"b: \"))\n",
    "c=int(input(\"c: \"))\n",
    "d=((b**2)-(4*a*c))\n",
    "x1=(-b+cmath.sqrt(d))/(2*a)\n",
    "x2=(-b-cmath.sqrt(d))/(2*a)\n",
    "print(f\"First root of the equation is {x1}\")\n",
    "print(f\"Second  root of the equation is {x2}\") "
   ]
  },
  {
   "cell_type": "code",
   "execution_count": 20,
   "id": "5cdf021a",
   "metadata": {},
   "outputs": [
    {
     "name": "stdout",
     "output_type": "stream",
     "text": [
      "a: 1\n",
      "b: -6\n",
      "c: 9\n",
      "First root of the equation is 3.0\n",
      "Second  root of the equation is 3.0\n"
     ]
    }
   ],
   "source": [
    "# 4.Write a Python program to solve quadratic equation?\n",
    "# ax2 + bx + c = 0\n",
    "\n",
    "#Ans-\n",
    "\n",
    "import math\n",
    "a=int(input(\"a: \"))\n",
    "b=int(input(\"b: \"))\n",
    "c=int(input(\"c: \"))\n",
    "d=((b**2)-(4*a*c))\n",
    "x1=(-b+math.sqrt(d))/(2*a)\n",
    "x2=(-b-math.sqrt(d))/(2*a)\n",
    "print(f\"First root of the equation is {x1}\")\n",
    "print(f\"Second  root of the equation is {x2}\") "
   ]
  },
  {
   "cell_type": "code",
   "execution_count": 22,
   "id": "d9bf6df3",
   "metadata": {},
   "outputs": [
    {
     "name": "stdout",
     "output_type": "stream",
     "text": [
      "Value of a and b before swapping : \n",
      "a= 4\n",
      "b=0\n",
      "Value of a and b after swapping : \n",
      "a=0\n",
      "b=4\n"
     ]
    }
   ],
   "source": [
    "# 5.\tWrite a Python program to swap two variables \n",
    "# without temp variable?\n",
    "print(\"Value of a and b before swapping : \")\n",
    "a=int(input(\"a= \"))\n",
    "b=int(input(\"b=\"))\n",
    "a=a+b\n",
    "b=a-b\n",
    "a=a-b\n",
    "\n",
    "print(\"Value of a and b after swapping : \")\n",
    "print(f\"a={a}\")\n",
    "print(f\"b={b}\")\n",
    "\n"
   ]
  },
  {
   "cell_type": "code",
   "execution_count": null,
   "id": "21bd981b",
   "metadata": {},
   "outputs": [],
   "source": []
  }
 ],
 "metadata": {
  "kernelspec": {
   "display_name": "Python 3 (ipykernel)",
   "language": "python",
   "name": "python3"
  },
  "language_info": {
   "codemirror_mode": {
    "name": "ipython",
    "version": 3
   },
   "file_extension": ".py",
   "mimetype": "text/x-python",
   "name": "python",
   "nbconvert_exporter": "python",
   "pygments_lexer": "ipython3",
   "version": "3.9.12"
  }
 },
 "nbformat": 4,
 "nbformat_minor": 5
}
