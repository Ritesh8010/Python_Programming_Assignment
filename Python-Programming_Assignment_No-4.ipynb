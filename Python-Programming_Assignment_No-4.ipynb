{
 "cells": [
  {
   "cell_type": "code",
   "execution_count": 4,
   "id": "c364e1f2",
   "metadata": {},
   "outputs": [
    {
     "name": "stdout",
     "output_type": "stream",
     "text": [
      "Enter the number for its factorial: 10\n",
      "factorial of 10 is 3628800\n"
     ]
    }
   ],
   "source": [
    "# 1.\tWrite a Python Program to Find the Factorial of a Number?\n",
    "\n",
    "# Ans-\n",
    "\n",
    "num=int(input(\"Enter the number for its factorial: \"))\n",
    "\n",
    "f=1\n",
    "\n",
    "for i in range (1,num+1):\n",
    "    f=f*i\n",
    "    \n",
    "print(f\"factorial of {num} is {f}\")\n"
   ]
  },
  {
   "cell_type": "code",
   "execution_count": 16,
   "id": "ccc78ac8",
   "metadata": {},
   "outputs": [
    {
     "name": "stdout",
     "output_type": "stream",
     "text": [
      "Enter the no for  multiplication table: 7\n",
      "7*1=7\n",
      "7*2=14\n",
      "7*3=21\n",
      "7*4=28\n",
      "7*5=35\n",
      "7*6=42\n",
      "7*7=49\n",
      "7*8=56\n",
      "7*9=63\n",
      "7*10=70\n"
     ]
    }
   ],
   "source": [
    "# 2.\tWrite a Python Program to Display the multiplication Table?\n",
    "\n",
    "# Ans-\n",
    "n=int(input(\"Enter the no for  multiplication table: \"))\n",
    "\n",
    "for i in range(1,11):\n",
    "    print(f\"{n}*{i}={n*i}\")\n"
   ]
  },
  {
   "cell_type": "code",
   "execution_count": 24,
   "id": "cbf841ca",
   "metadata": {},
   "outputs": [
    {
     "name": "stdout",
     "output_type": "stream",
     "text": [
      "How many terms of Fibonacci to be displayed?: 9\n",
      "Fibonacci Sequence upto 9 is : \n",
      "0\n",
      "1\n",
      "1\n",
      "2\n",
      "3\n",
      "5\n",
      "8\n",
      "13\n",
      "21\n"
     ]
    }
   ],
   "source": [
    "# 3.\tWrite a Python Program to Print the Fibonacci sequence?\n",
    "\n",
    "# Ans-\n",
    "# if 7 terms of fibonacci series\n",
    "#0,1,1,2,3,5,8\n",
    "nterms=int(input(\"How many terms of Fibonacci to be displayed?: \"))\n",
    "\n",
    "n1,n2=0,1 # First two numbers\n",
    "count=0\n",
    "\n",
    "# check if the number of terms is valid\n",
    "\n",
    "if nterms<=0:\n",
    "    print(\"Please enter a positive number\")\n",
    "# Suppose if  there is only 1 term then return n1\n",
    "\n",
    "elif nterms==1:\n",
    "    print(f\"Fibonacci Series upto : {nterms}\")\n",
    "    print(n1)\n",
    "# else generate fibonacci series/sequence\n",
    "else:\n",
    "    print(f\"Fibonacci Sequence upto {nterms} is : \")\n",
    "    \n",
    "    while count < nterms:\n",
    "        print(n1)\n",
    "        nth=n1+n2\n",
    "        # updating values\n",
    "        n1=n2\n",
    "        n2=nth\n",
    "        count +=1\n"
   ]
  },
  {
   "cell_type": "code",
   "execution_count": 11,
   "id": "fa4b0145",
   "metadata": {},
   "outputs": [
    {
     "name": "stdout",
     "output_type": "stream",
     "text": [
      "Enter the number to be checked as Armstrong371\n",
      "371 is armstrong\n"
     ]
    }
   ],
   "source": [
    "# 4.\tWrite a Python Program to Check Armstrong Number?\n",
    "\n",
    "# Ans-\n",
    "\n",
    "num=int(input(\"Enter the number to be checked as Armstrong\"))\n",
    "sum=0\n",
    "\n",
    "\n",
    "temp=num\n",
    "while temp > 0:\n",
    "    d=temp%10\n",
    "    sum=sum+d**3\n",
    "    temp=temp//10\n",
    "if num==sum:\n",
    "    print(f\"{num} is armstrong\")\n",
    "else:\n",
    "    print(f\"{num} is not  armstrong\") \n"
   ]
  },
  {
   "cell_type": "code",
   "execution_count": 22,
   "id": "3a751d2b",
   "metadata": {},
   "outputs": [
    {
     "name": "stdout",
     "output_type": "stream",
     "text": [
      "Enter the lower limit: 100\n",
      "Enter the upper limit: 5000\n",
      "Armstrong no between 100 and 5000:\n",
      "153\n",
      "370\n",
      "371\n",
      "407\n",
      "1634\n"
     ]
    }
   ],
   "source": [
    "#5.\tWrite a Python Program to Find Armstrong Number in an Interval?\n",
    "\n",
    "# Ans-\n",
    "\n",
    "lower=int(input(\"Enter the lower limit: \"))\n",
    "upper=int(input(\"Enter the upper limit: \"))\n",
    "\n",
    "print(f\"Armstrong no between {lower} and {upper}:\")\n",
    "for num in range(lower,upper+1):\n",
    "    order_of_num=len(str(num))\n",
    "    sum=0\n",
    "    temp=num\n",
    "    while temp>0:\n",
    "        d=temp%10\n",
    "        sum=sum+d**order_of_num\n",
    "        temp=temp//10\n",
    "    if num==sum:\n",
    "        print(num)"
   ]
  },
  {
   "cell_type": "code",
   "execution_count": 25,
   "id": "856cbebb",
   "metadata": {},
   "outputs": [
    {
     "name": "stdout",
     "output_type": "stream",
     "text": [
      "Enter the upper limit of natural number for sum10\n",
      "Natural Numbers from 1 to {N}\n",
      "Summation of Natural Number from 1 to 10 is 55\n"
     ]
    }
   ],
   "source": [
    "#6.\tWrite a Python Program to Find the Sum of Natural Numbers?\n",
    "\n",
    "# Ans-\n",
    "N=int(input(\"Enter the upper limit of natural number for sum\"))\n",
    "\n",
    "print(\"Natural Numbers from 1 to {N}\")\n",
    "sum=0\n",
    "for i in range (1,N+1):\n",
    "    sum=sum+i\n",
    "print(f\"Summation of Natural Number from 1 to {N} is {sum}\")\n"
   ]
  },
  {
   "cell_type": "code",
   "execution_count": null,
   "id": "477d58cc",
   "metadata": {},
   "outputs": [],
   "source": []
  }
 ],
 "metadata": {
  "kernelspec": {
   "display_name": "Python 3 (ipykernel)",
   "language": "python",
   "name": "python3"
  },
  "language_info": {
   "codemirror_mode": {
    "name": "ipython",
    "version": 3
   },
   "file_extension": ".py",
   "mimetype": "text/x-python",
   "name": "python",
   "nbconvert_exporter": "python",
   "pygments_lexer": "ipython3",
   "version": "3.9.12"
  }
 },
 "nbformat": 4,
 "nbformat_minor": 5
}
