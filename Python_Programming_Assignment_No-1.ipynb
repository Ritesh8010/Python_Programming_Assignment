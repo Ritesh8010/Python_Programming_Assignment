{
 "cells": [
  {
   "cell_type": "code",
   "execution_count": 1,
   "id": "06d79904",
   "metadata": {},
   "outputs": [
    {
     "name": "stdout",
     "output_type": "stream",
     "text": [
      "Hello Python\n"
     ]
    }
   ],
   "source": [
    "# 1.\tWrite a Python program to print \"Hello Python\"?\n",
    "\n",
    "# Ans-\n",
    "\n",
    "print(\"Hello Python\")"
   ]
  },
  {
   "cell_type": "code",
   "execution_count": 3,
   "id": "7cb59f12",
   "metadata": {},
   "outputs": [
    {
     "name": "stdout",
     "output_type": "stream",
     "text": [
      "Enter a number a: 6\n",
      "enter a number b: 3\n",
      "Addition of no-a:6 and no-b:3 is c:9\n",
      "Division  of no-a:6 and no-b:3 is d:2.0\n"
     ]
    }
   ],
   "source": [
    "# 2.\tWrite a Python program to do arithmetical operations \n",
    "# addition and division.?\n",
    "\n",
    "# Ans-\n",
    "a=int(input(\"Enter a number a: \"))\n",
    "b=int(input(\"enter a number b: \"))\n",
    "c=a+b\n",
    "d=a/b\n",
    "print(f\"Addition of no-a:{a} and no-b:{b} is c:{c}\")\n",
    "print(f\"Division  of no-a:{a} and no-b:{b} is d:{d}\")"
   ]
  },
  {
   "cell_type": "code",
   "execution_count": 4,
   "id": "6b355ab0",
   "metadata": {},
   "outputs": [
    {
     "name": "stdout",
     "output_type": "stream",
     "text": [
      "enter the base of triangle b:3\n",
      "enter the height of triangle h:6\n",
      "The area of triangle having base as b:3 and height as h:6 is a=0.5*b*h =>9.0\n"
     ]
    }
   ],
   "source": [
    "# 3.\tWrite a Python program to find the area of a triangle?\n",
    "\n",
    "# Ans-\n",
    "\n",
    "b=int(input(\"enter the base of triangle b:\"))\n",
    "h=int(input(\"enter the height of triangle h:\"))\n",
    "a=0.5*b*h\n",
    "print(f\"The area of triangle having base as b:{b} and height as h:{h} is a=0.5*b*h =>{a}\")"
   ]
  },
  {
   "cell_type": "code",
   "execution_count": 6,
   "id": "81ad99ea",
   "metadata": {},
   "outputs": [
    {
     "name": "stdout",
     "output_type": "stream",
     "text": [
      "Enter a number a: 9\n",
      "enter a number b: 23\n",
      "value after swapping a=23 and b=9\n"
     ]
    }
   ],
   "source": [
    "# 4.\tWrite a Python program to swap two variables?\n",
    "\n",
    "# Ans-\n",
    "\n",
    "a=int(input(\"Enter a number a: \"))\n",
    "b=int(input(\"enter a number b: \"))\n",
    "c=0\n",
    "c=b\n",
    "b=a\n",
    "a=c\n",
    "print(f\"value after swapping a={a} and b={b}\")\n"
   ]
  },
  {
   "cell_type": "code",
   "execution_count": 12,
   "id": "d435a829",
   "metadata": {},
   "outputs": [
    {
     "name": "stdout",
     "output_type": "stream",
     "text": [
      "156583\n"
     ]
    }
   ],
   "source": [
    "# 5.\tWrite a Python program to generate a random number?\n",
    "\n",
    "# Ans-\n",
    "\n",
    "import random\n",
    "print(random.randint(10988,4987654))"
   ]
  },
  {
   "cell_type": "code",
   "execution_count": null,
   "id": "3dbcb3b2",
   "metadata": {},
   "outputs": [],
   "source": []
  }
 ],
 "metadata": {
  "kernelspec": {
   "display_name": "Python 3 (ipykernel)",
   "language": "python",
   "name": "python3"
  },
  "language_info": {
   "codemirror_mode": {
    "name": "ipython",
    "version": 3
   },
   "file_extension": ".py",
   "mimetype": "text/x-python",
   "name": "python",
   "nbconvert_exporter": "python",
   "pygments_lexer": "ipython3",
   "version": "3.9.12"
  }
 },
 "nbformat": 4,
 "nbformat_minor": 5
}
