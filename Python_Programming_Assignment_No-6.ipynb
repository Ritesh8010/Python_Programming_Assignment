{
 "cells": [
  {
   "cell_type": "code",
   "execution_count": 5,
   "id": "6c30e20a",
   "metadata": {},
   "outputs": [
    {
     "name": "stdout",
     "output_type": "stream",
     "text": [
      "Enter the nth terms for fibonacci series10\n",
      "FIBONACCI SEQUENCE\n",
      "0,1,1,2,3,5,8,13,21,34,"
     ]
    }
   ],
   "source": [
    "# 1 \tWrite a Python Program to Display Fibonacci Sequence Using Recursion?\n",
    "\n",
    "# Ans-\n",
    "def fibo(i):\n",
    "    if i<=1:\n",
    "        return i\n",
    "    else:\n",
    "        return (fibo(i-1)+fibo(i-2))\n",
    "    \n",
    "# main code\n",
    "n=int(input(\"Enter the nth terms for fibonacci series\"))\n",
    "print(\"FIBONACCI SEQUENCE\")\n",
    "for i in range(n):\n",
    "    print(fibo(i),end=',')"
   ]
  },
  {
   "cell_type": "code",
   "execution_count": 9,
   "id": "a6105066",
   "metadata": {},
   "outputs": [
    {
     "name": "stdout",
     "output_type": "stream",
     "text": [
      "Enter the no for which factorial to be calculated6\n",
      "The factorial of 6 is 720\n"
     ]
    }
   ],
   "source": [
    "# 2.\tWrite a Python Program to Find Factorial of Number Using Recursion?\n",
    "\n",
    "# Ans-\n",
    "\n",
    "def fact(n):\n",
    "    if n<=1:\n",
    "        return 1\n",
    "    else:\n",
    "        return(n*fact(n-1))\n",
    "# main code\n",
    "num=int(input(\"Enter the no for which factorial to be calculated\"))\n",
    "\n",
    "if num<0:\n",
    "    print(\"Invalid input\")\n",
    "elif num==0:\n",
    "    print(\"0 factorial is always 1\")\n",
    "else:\n",
    "    print(f\"The factorial of {num} is {fact(num)}\")\n",
    "    "
   ]
  },
  {
   "cell_type": "code",
   "execution_count": 4,
   "id": "8733d4d4",
   "metadata": {},
   "outputs": [
    {
     "name": "stdout",
     "output_type": "stream",
     "text": [
      "Body Mass index\n",
      "Enter the grnder  of the personmale\n",
      "Enter the age of person24\n",
      "Enter the wt of person in kg78\n",
      "Enter the height of person in m1.6764\n",
      " age | weight(Kg) |  Height (m) | BMI\n",
      "  24  |  78.0   |   1.6764   |  27.754876446392014\n"
     ]
    }
   ],
   "source": [
    "# 3.\tWrite a Python Program to calculate your Body Mass Index?\n",
    "\n",
    "print(\"Body Mass index\")\n",
    "gender=input(\"Enter the grnder  of the person\")\n",
    "age=int(input(\"Enter the age of person\"))\n",
    "wt=float(input(\"Enter the wt of person in kg\"))\n",
    "ht=float(input(\"Enter the height of person in m\"))\n",
    "BMI=(wt/ht**2)\n",
    "print(\" age | weight(Kg) |  Height (m) | BMI\")\n",
    "print(f\"  {age}  |  {wt}   |   {ht}   |  {BMI}\")"
   ]
  },
  {
   "cell_type": "code",
   "execution_count": 7,
   "id": "54f697f0",
   "metadata": {},
   "outputs": [
    {
     "name": "stdout",
     "output_type": "stream",
     "text": [
      "Enter a number: 10\n",
      "value of n with base e\n",
      "2.302585092994046\n",
      "Enter the base other than e as desired: 10\n",
      "value of n with base 10\n",
      "1.0\n"
     ]
    }
   ],
   "source": [
    "# 4.\tWrite a Python Program to calculate the natural logarithm of any number?\n",
    "\n",
    "# Ans-\n",
    "\n",
    "# math.log(a,base)--log value of a with desired base.\n",
    "import math\n",
    "n=int(input(\"Enter a number: \"))\n",
    "print(\"value of n with base e\")\n",
    "print(math.log(n))\n",
    "base=int(input(\"Enter the base other than e as desired: \"))\n",
    "print(f\"value of n with base {base}\")\n",
    "print(math.log(n,base))"
   ]
  },
  {
   "cell_type": "code",
   "execution_count": 9,
   "id": "2ab85937",
   "metadata": {},
   "outputs": [
    {
     "name": "stdout",
     "output_type": "stream",
     "text": [
      "enter the nth term for cube summation: 10\n",
      "Cube Sum of first 10 natural mubers is 3025.0\n"
     ]
    }
   ],
   "source": [
    "# 5.\tWrite a Python Program for cube sum of first n natural numbers?\n",
    "\n",
    "# Ans-\n",
    "\n",
    "n=int(input(\"enter the nth term for cube summation: \"))\n",
    "sum=0\n",
    "sum=(n*(n+1)/2)**2\n",
    "print(f\"Cube Sum of first {n} natural mubers is {sum}\")"
   ]
  },
  {
   "cell_type": "code",
   "execution_count": null,
   "id": "5721be3c",
   "metadata": {},
   "outputs": [],
   "source": []
  }
 ],
 "metadata": {
  "kernelspec": {
   "display_name": "Python 3 (ipykernel)",
   "language": "python",
   "name": "python3"
  },
  "language_info": {
   "codemirror_mode": {
    "name": "ipython",
    "version": 3
   },
   "file_extension": ".py",
   "mimetype": "text/x-python",
   "name": "python",
   "nbconvert_exporter": "python",
   "pygments_lexer": "ipython3",
   "version": "3.9.12"
  }
 },
 "nbformat": 4,
 "nbformat_minor": 5
}
